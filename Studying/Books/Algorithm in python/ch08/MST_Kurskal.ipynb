{
  "nbformat": 4,
  "nbformat_minor": 0,
  "metadata": {
    "colab": {
      "name": "MST_Kurskal.ipynb",
      "private_outputs": true,
      "provenance": [],
      "collapsed_sections": []
    },
    "kernelspec": {
      "name": "python3",
      "display_name": "Python 3"
    },
    "language_info": {
      "name": "python"
    }
  },
  "cells": [
    {
      "cell_type": "code",
      "execution_count": null,
      "metadata": {
        "id": "DeajyySDr2Ih"
      },
      "outputs": [],
      "source": [
        "class disjointSets:\n",
        "  def __init__(self,n):\n",
        "    self.parent=[-1]*n\n",
        "    self.set_size=n\n",
        "    \n",
        "  def find(self,id):\n",
        "    while(self.parent[id] >= 0):\n",
        "      id=self.parent[id]\n",
        "    return id\n",
        "\n",
        "  def union(self,s1,s2):\n",
        "    self.parent[s1]=s2\n",
        "    self.set_size=self.set_size-1\n"
      ]
    },
    {
      "cell_type": "code",
      "source": [
        "def MSTKurskal(V,adj):\n",
        "  n=len(V)\n",
        "  dsets=disjointSets(n)\n",
        "  E=[]\n",
        "  for i in range(n-1):\n",
        "    for j in range(i+1,n):\n",
        "      if adj[i][j]!=None:\n",
        "        E.append((i,j,adj[i][j]))\n",
        "  E.sort(key=lambda e:e[2])\n",
        "\n",
        "  ecount=0\n",
        "  for i in range(len(E)):\n",
        "    e=E[i]\n",
        "    uset=dsets.find(e[0])\n",
        "    vset=dsets.find(e[1])\n",
        "\n",
        "    if uset != vset:\n",
        "      dsets.union(uset,vset)\n",
        "      print(\"간선 추가 : (%s, %s, %d)\" %(V[e[0]], V[e[0]], e[2]))\n",
        "      ecount +=1\n",
        "      if ecount ==n-1:\n",
        "        break"
      ],
      "metadata": {
        "id": "-RmRm9gqtG3W"
      },
      "execution_count": null,
      "outputs": []
    },
    {
      "cell_type": "code",
      "source": [
        "vertex =['A','B','C','D','E','F','G']\n",
        "weight = [[None,29,None,None,None,10,None],\n",
        "          [29,None,16,None,None,None,15],\n",
        "          [None,16,None,12,None,None,None],\n",
        "          [None,None,12,None,22,None,18],\n",
        "          [None,None,None,22,None,27,25],\n",
        "          [10,None,None,None,27,None,None],\n",
        "          [None,15,None,18,25,None,None]]\n",
        "print(\"MST by Kruskal's algorithm\")          \n",
        "MSTKurskal(vertex,weight)\n",
        "\n"
      ],
      "metadata": {
        "id": "r6SxpNKAuaP_"
      },
      "execution_count": null,
      "outputs": []
    }
  ]
}