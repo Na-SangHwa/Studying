{
  "nbformat": 4,
  "nbformat_minor": 0,
  "metadata": {
    "colab": {
      "name": "dijkstra.ipynb",
      "private_outputs": true,
      "provenance": [],
      "collapsed_sections": []
    },
    "kernelspec": {
      "name": "python3",
      "display_name": "Python 3"
    },
    "language_info": {
      "name": "python"
    }
  },
  "cells": [
    {
      "cell_type": "code",
      "source": [
        "INF=99999\n",
        "def getMinVertex(dist, selected):\n",
        "  minv = -1\n",
        "  mindist = INF\n",
        "  \n",
        "  for v in range (len(dist)) :\n",
        "    if not selected[v] and dist[v]<mindist :\n",
        "      mindist = dist[v]\n",
        "      minv = v\n",
        "  return minv"
      ],
      "metadata": {
        "id": "gynzL3_5zb1y"
      },
      "execution_count": null,
      "outputs": []
    },
    {
      "cell_type": "code",
      "execution_count": null,
      "metadata": {
        "id": "sNA5bjn8yGOY"
      },
      "outputs": [],
      "source": [
        "def shortest_path_dijkstra(vtx,adj,start):\n",
        "  vsize=len(vtx)\n",
        "  dist=list(adj[start])\n",
        "  dist[start]=0\n",
        "  path=[start]*vsize\n",
        "  found=[start]*vsize\n",
        "  found[start]=True\n",
        "\n",
        "  for i in range(vsize):\n",
        "    print(\"Step%2d: \"%(i+1),dist)\n",
        "    u=getMinVertex(dist,found)\n",
        "    found[u]=True\n",
        "\n",
        "    for w in range(vsize):\n",
        "      if not found[w]:\n",
        "        if dist[u]+adj[u][w]<dist[w]:\n",
        "          dist[w]=dist[u]+adj[u][w]\n",
        "          path[w]=u\n",
        "  return path\n",
        "vertex=['A','B','C','D','E','F','G']\n",
        "weight=[[0,7,INF,INF,3,10,INF],\n",
        "        [7,0,4,10,2,6,INF],\n",
        "        [INF,4,0,2,INF,INF,INF],\n",
        "        [INF,10,0,2,11,9,4],\n",
        "        [3,2,INF,11,0,13,5],\n",
        "        [10,6,INF,9,13,0,INF],\n",
        "        [INF,INF,INF,4,5,INF,0]]\n",
        "path=shortest_path_dijkstra(vertex,weight,start)\n",
        "start=0\n",
        "for end in range(len(vertex)):\n",
        "  if end !=start:\n",
        "    print(\"[최단경로: %s -> %s] %s\"%\n",
        "          (vertex[start],vertex[end],vertex[end]),end='')\n",
        "    while(path[end]!=start):\n",
        "      print(\"<- %s\"%vertex[path[end]], end='')\n",
        "      end=path[end]\n",
        "    print(\" <-%s\"% vertex[path[end]])"
      ]
    }
  ]
}