{
  "nbformat": 4,
  "nbformat_minor": 0,
  "metadata": {
    "colab": {
      "name": "Prim mst.ipynb",
      "provenance": [],
      "collapsed_sections": []
    },
    "kernelspec": {
      "name": "python3",
      "display_name": "Python 3"
    },
    "language_info": {
      "name": "python"
    }
  },
  "cells": [
    {
      "cell_type": "code",
      "execution_count": null,
      "metadata": {
        "id": "LwTR-JkzyLW3"
      },
      "outputs": [],
      "source": [
        "INF=99999\n",
        "\n",
        "def getMinVertex(dist, selected):\n",
        "  minv = -1\n",
        "  mindist = INF\n",
        "  \n",
        "  for v in range (len(dist)) :\n",
        "    if not selected[v] and dist[v]<mindist :\n",
        "      mindist = dist[v]\n",
        "      minv = v\n",
        "  return minv\n",
        "\n",
        "def MSTPrim(vertex, adj) :\n",
        "  vsize = len(vertex)\n",
        "  dist = [INF] * vsize\n",
        "  dist[0] = 0\n",
        "  selected = [False] * vsize\n",
        "\n",
        "  for i in range(vsize) : \n",
        "    u = getMinVertex(dist, selected)\n",
        "    selected[u] = True\n",
        "    print (vertex[u], end=':')\n",
        "    print (dist)\n",
        "\n",
        "    for v in range(vsize) : \n",
        "      if (adj[u][v] != None):\n",
        "        if selected[v]==False and adj[u][v]< dist[v]:\n",
        "          dist[v]=adj[u][v]\n",
        "          \n",
        "          "
      ]
    },
    {
      "cell_type": "code",
      "source": [
        "vertex =['A','B','C','D','E','F','G']\n",
        "weight = [[None,29,None,None,None,10,None],\n",
        "          [29,None,16,None,None,None,15],\n",
        "          [None,16,None,12,None,None,None],\n",
        "          [None,None,12,None,22,None,18],\n",
        "          [None,None,None,22,None,27,25],\n",
        "          [10,None,None,None,27,None,None],\n",
        "          [None,15,None,18,25,None,None]]\n",
        "MSTPrim(vertex,weight)"
      ],
      "metadata": {
        "colab": {
          "base_uri": "https://localhost:8080/"
        },
        "id": "jGc4-b_WzWUU",
        "outputId": "d9e528db-f35c-4b05-d90a-61bb3bda7b1c"
      },
      "execution_count": null,
      "outputs": [
        {
          "output_type": "stream",
          "name": "stdout",
          "text": [
            "A:[0, 99999, 99999, 99999, 99999, 99999, 99999]\n",
            "F:[0, 29, 99999, 99999, 99999, 10, 99999]\n",
            "E:[0, 29, 99999, 99999, 27, 10, 99999]\n",
            "D:[0, 29, 99999, 22, 27, 10, 25]\n",
            "C:[0, 29, 12, 22, 27, 10, 18]\n",
            "B:[0, 16, 12, 22, 27, 10, 18]\n",
            "G:[0, 16, 12, 22, 27, 10, 15]\n"
          ]
        }
      ]
    }
  ]
}