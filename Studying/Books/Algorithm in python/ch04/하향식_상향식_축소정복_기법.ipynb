{
  "nbformat": 4,
  "nbformat_minor": 0,
  "metadata": {
    "colab": {
      "name": "하향식/상향식 축소정복 기법.ipynb",
      "private_outputs": true,
      "provenance": []
    },
    "kernelspec": {
      "name": "python3",
      "display_name": "Python 3"
    },
    "language_info": {
      "name": "python"
    }
  },
  "cells": [
    {
      "cell_type": "code",
      "execution_count": null,
      "metadata": {
        "id": "_UxEHP1t4FrS"
      },
      "outputs": [],
      "source": [
        "#하향식\n",
        "def factorial_recur(n):\n",
        "  if n == 1:\n",
        "    return 1\n",
        "  else :\n",
        "    return (n*factorial_recur(n-1))\n",
        "#상향식\n",
        "def factorial_iter(n):\n",
        "  result=1\n",
        "  for k in range(1,n+1):\n",
        "    result=result*k\n",
        "  return result\n",
        "\n",
        "print(factorial_recur(4))\n",
        "print(factorial_iter(4))\n",
        "\n"
      ]
    }
  ]
}